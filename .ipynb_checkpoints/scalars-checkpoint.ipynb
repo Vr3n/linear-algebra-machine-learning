{
 "cells": [
  {
   "cell_type": "markdown",
   "id": "58e1abaa-61a6-4256-b5c1-f932f4e1b117",
   "metadata": {},
   "source": [
    "### Scalars (Rank 0 Tensors) in Python"
   ]
  },
  {
   "cell_type": "code",
   "execution_count": 4,
   "id": "6037d79f-8b2d-4445-892a-f6fc66b84b16",
   "metadata": {},
   "outputs": [
    {
     "data": {
      "text/plain": [
       "25"
      ]
     },
     "execution_count": 4,
     "metadata": {},
     "output_type": "execute_result"
    }
   ],
   "source": [
    "x = 25\n",
    "x"
   ]
  },
  {
   "cell_type": "code",
   "execution_count": 3,
   "id": "dcf6ce87-1261-4212-848f-5f08050f332d",
   "metadata": {},
   "outputs": [
    {
     "data": {
      "text/plain": [
       "int"
      ]
     },
     "execution_count": 3,
     "metadata": {},
     "output_type": "execute_result"
    }
   ],
   "source": [
    "type(x)"
   ]
  },
  {
   "cell_type": "code",
   "execution_count": 7,
   "id": "738f1026-cb30-45c5-9c0b-1cba14ceba00",
   "metadata": {},
   "outputs": [
    {
     "data": {
      "text/plain": [
       "50.0"
      ]
     },
     "execution_count": 7,
     "metadata": {},
     "output_type": "execute_result"
    }
   ],
   "source": [
    "x_float = 25.0\n",
    "x_float_sum = x_float + x\n",
    "\n",
    "x_float_sum"
   ]
  },
  {
   "cell_type": "markdown",
   "id": "8d4c80e9-a2b0-457e-8da7-90805044f98a",
   "metadata": {},
   "source": [
    "### Scalars in PyTorch\n",
    "\n",
    "- PyTorch tensors are designed to be pythonic, i.e, to feel and behave like NumPy arrays.\n",
    "- The advantage of PyTorch tensors relative to NumPy arrays is that they easily be used for operations on GPU.\n",
    "- Documentation on PyTorch tensors, including available data types, is [here](https://pytorch.org/docs/stable/tensors.html)."
   ]
  },
  {
   "cell_type": "code",
   "execution_count": null,
   "id": "536fbe90-2a0b-4467-992a-7093998f644a",
   "metadata": {},
   "outputs": [],
   "source": [
    "import torch"
   ]
  },
  {
   "cell_type": "code",
   "execution_count": 10,
   "id": "f8443ef8-7ec8-43e5-9eec-321643ede906",
   "metadata": {},
   "outputs": [
    {
     "data": {
      "text/plain": [
       "tensor(25)"
      ]
     },
     "execution_count": 10,
     "metadata": {},
     "output_type": "execute_result"
    }
   ],
   "source": [
    "x_pt = torch.tensor(25) # type specification is optional, e.g: dtype=torch.float16\n",
    "x_pt"
   ]
  },
  {
   "cell_type": "code",
   "execution_count": 11,
   "id": "b2e1aeb7-1968-4774-8b53-11f8f04ed8df",
   "metadata": {},
   "outputs": [
    {
     "data": {
      "text/plain": [
       "torch.Size([])"
      ]
     },
     "execution_count": 11,
     "metadata": {},
     "output_type": "execute_result"
    }
   ],
   "source": [
    "x_pt.shape"
   ]
  },
  {
   "cell_type": "markdown",
   "id": "1059a23e-f655-45ae-aff8-9f360835e729",
   "metadata": {},
   "source": [
    "## Scalars in TensorFlow (ver 2.0 or Later)\n",
    "\n",
    "Tensors are created with a wrapper, all of which [you can read about here.](https://www.tensorflow.org/guide/tensor)\n",
    "- `tf.Variable`\n",
    "- `tf.constant`\n",
    "- `tf.placeholder`\n",
    "- `tf.SparseTensor`\n",
    "\n",
    "The most widely used is `tf.Variable`, which we'll use here.\n",
    "As with TF tensors, in PyTorch, we can similarly perform operations, and we can easily convert to and from NumPy arrays.\n",
    "\n",
    "Also, a full list of tensor data types is available [here](https://www.tensorflow.org/api_docs/python/tf/dtypes/DType)"
   ]
  },
  {
   "cell_type": "code",
   "execution_count": 12,
   "id": "a64f2111-334b-4e8b-bfe8-84ebe4b8e836",
   "metadata": {},
   "outputs": [
    {
     "name": "stderr",
     "output_type": "stream",
     "text": [
      "2023-06-28 08:47:55.720452: W tensorflow/compiler/tf2tensorrt/utils/py_utils.cc:38] TF-TRT Warning: Could not find TensorRT\n"
     ]
    }
   ],
   "source": [
    "import tensorflow as tf"
   ]
  },
  {
   "cell_type": "code",
   "execution_count": 14,
   "id": "3fb11bac-9b26-48cc-b434-2017ab0541f8",
   "metadata": {},
   "outputs": [
    {
     "data": {
      "text/plain": [
       "<tf.Variable 'Variable:0' shape=() dtype=int16, numpy=25>"
      ]
     },
     "execution_count": 14,
     "metadata": {},
     "output_type": "execute_result"
    }
   ],
   "source": [
    "x_tf = tf.Variable(25, dtype=tf.int16)\n",
    "x_tf"
   ]
  },
  {
   "cell_type": "code",
   "execution_count": 15,
   "id": "be1370f7-d85e-4986-968b-2d67f9769a79",
   "metadata": {},
   "outputs": [
    {
     "data": {
      "text/plain": [
       "TensorShape([])"
      ]
     },
     "execution_count": 15,
     "metadata": {},
     "output_type": "execute_result"
    }
   ],
   "source": [
    "x_tf.shape"
   ]
  },
  {
   "cell_type": "code",
   "execution_count": 16,
   "id": "dffb8c94-60f7-46bd-9a72-33a5e2e591d1",
   "metadata": {},
   "outputs": [],
   "source": [
    "y_tf = tf.Variable(3, dtype=tf.int16)"
   ]
  },
  {
   "cell_type": "code",
   "execution_count": 17,
   "id": "83db1533-6704-4987-858f-b7b2a3b0cc3d",
   "metadata": {},
   "outputs": [
    {
     "data": {
      "text/plain": [
       "<tf.Tensor: shape=(), dtype=int16, numpy=28>"
      ]
     },
     "execution_count": 17,
     "metadata": {},
     "output_type": "execute_result"
    }
   ],
   "source": [
    "x_tf + y_tf"
   ]
  },
  {
   "cell_type": "code",
   "execution_count": 19,
   "id": "6e531025-f764-4da4-a159-10cc5482fb28",
   "metadata": {},
   "outputs": [
    {
     "data": {
      "text/plain": [
       "<tf.Tensor: shape=(), dtype=int16, numpy=28>"
      ]
     },
     "execution_count": 19,
     "metadata": {},
     "output_type": "execute_result"
    }
   ],
   "source": [
    "tf_sum = tf.add(x_tf, y_tf)\n",
    "tf_sum"
   ]
  },
  {
   "cell_type": "code",
   "execution_count": 20,
   "id": "ab9ff82e-c8f2-4a66-92f2-005930e344e4",
   "metadata": {},
   "outputs": [
    {
     "data": {
      "text/plain": [
       "28"
      ]
     },
     "execution_count": 20,
     "metadata": {},
     "output_type": "execute_result"
    }
   ],
   "source": [
    "tf_sum.numpy()"
   ]
  },
  {
   "cell_type": "code",
   "execution_count": 21,
   "id": "2176dd33-82ce-4951-9820-7d96a7f50004",
   "metadata": {},
   "outputs": [
    {
     "data": {
      "text/plain": [
       "numpy.int16"
      ]
     },
     "execution_count": 21,
     "metadata": {},
     "output_type": "execute_result"
    }
   ],
   "source": [
    "type(tf_sum.numpy())"
   ]
  },
  {
   "cell_type": "code",
   "execution_count": 22,
   "id": "579ce444-4f46-419d-9390-72b68a29583d",
   "metadata": {},
   "outputs": [
    {
     "data": {
      "text/plain": [
       "<tf.Variable 'Variable:0' shape=() dtype=float16, numpy=25.0>"
      ]
     },
     "execution_count": 22,
     "metadata": {},
     "output_type": "execute_result"
    }
   ],
   "source": [
    "tf_float = tf.Variable(25., dtype=tf.float16)\n",
    "tf_float"
   ]
  },
  {
   "cell_type": "code",
   "execution_count": null,
   "id": "cb2183ab-6a7f-46e4-b2ba-1f771eedcd94",
   "metadata": {},
   "outputs": [],
   "source": []
  }
 ],
 "metadata": {
  "kernelspec": {
   "display_name": "Python 3 (ipykernel)",
   "language": "python",
   "name": "python3"
  },
  "language_info": {
   "codemirror_mode": {
    "name": "ipython",
    "version": 3
   },
   "file_extension": ".py",
   "mimetype": "text/x-python",
   "name": "python",
   "nbconvert_exporter": "python",
   "pygments_lexer": "ipython3",
   "version": "3.10.6"
  }
 },
 "nbformat": 4,
 "nbformat_minor": 5
}
