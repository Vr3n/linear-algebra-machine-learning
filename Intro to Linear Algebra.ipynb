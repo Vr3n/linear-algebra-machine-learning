{
 "cells": [
  {
   "cell_type": "markdown",
   "id": "559682de",
   "metadata": {},
   "source": [
    "# Intro To Linear Algebra\n",
    "\n",
    "1. Data Structures for Algebra.\n",
    "2. Common Tensor Operations.\n",
    "3. Matrix Properties."
   ]
  },
  {
   "cell_type": "markdown",
   "id": "4bc949c9",
   "metadata": {},
   "source": [
    "# Segment 1: Data Structures for Algebra.\n",
    "\n",
    "- What linear Algebra Is\n",
    "- A Brief History of Algebra.\n",
    "- Tensors.\n",
    "- Scalars.\n",
    "- Vectors & Vector Transposition.\n",
    "- Norms & Unit Vectors.\n",
    "- Basis, Orthogonal, and Orthonormal Vectors.\n",
    "- Arrays in NumPy\n",
    "- Matrices\n",
    "- Tensors in TensorFlow & PyTorch."
   ]
  },
  {
   "cell_type": "code",
   "execution_count": null,
   "id": "1f538ec6",
   "metadata": {},
   "outputs": [],
   "source": []
  }
 ],
 "metadata": {
  "kernelspec": {
   "display_name": "Python 3 (ipykernel)",
   "language": "python",
   "name": "python3"
  },
  "language_info": {
   "codemirror_mode": {
    "name": "ipython",
    "version": 3
   },
   "file_extension": ".py",
   "mimetype": "text/x-python",
   "name": "python",
   "nbconvert_exporter": "python",
   "pygments_lexer": "ipython3",
   "version": "3.10.6"
  }
 },
 "nbformat": 4,
 "nbformat_minor": 5
}
