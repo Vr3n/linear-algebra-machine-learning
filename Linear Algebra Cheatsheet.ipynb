{
 "cells": [
  {
   "cell_type": "code",
   "execution_count": 8,
   "id": "61835c93",
   "metadata": {},
   "outputs": [],
   "source": [
    "import numpy as np\n",
    "\n",
    "\n",
    "# Scalar code example.\n",
    "s = 5\n",
    "\n",
    "# Vector code example.\n",
    "v = np.array([1, 2, 3, 4])"
   ]
  },
  {
   "cell_type": "code",
   "execution_count": 9,
   "id": "0b6c000b",
   "metadata": {},
   "outputs": [
    {
     "name": "stdout",
     "output_type": "stream",
     "text": [
      "Scaler code:  5\n",
      "Vector code:  [1 2 3 4]\n"
     ]
    }
   ],
   "source": [
    "print(\"Scaler code: \",s)\n",
    "print(\"Vector code: \", v)"
   ]
  },
  {
   "cell_type": "code",
   "execution_count": 12,
   "id": "451babcf",
   "metadata": {},
   "outputs": [
    {
     "name": "stdout",
     "output_type": "stream",
     "text": [
      "Matrix code:  [[1 2 3]\n",
      " [4 5 6]\n",
      " [7 8 9]]\n"
     ]
    }
   ],
   "source": [
    "m = np.array([[1, 2, 3], [4, 5, 6], [7, 8, 9]])\n",
    "\n",
    "print(\"Matrix code: \", m)"
   ]
  },
  {
   "cell_type": "markdown",
   "id": "e530726e",
   "metadata": {},
   "source": [
    "## Matrix Addition\n",
    "\n",
    "In matrix addition, corresponding matrix entries are added together."
   ]
  },
  {
   "cell_type": "code",
   "execution_count": 13,
   "id": "d15fed73",
   "metadata": {},
   "outputs": [
    {
     "name": "stdout",
     "output_type": "stream",
     "text": [
      "[[3 8]\n",
      " [4 6]]\n",
      "[[ 4  0]\n",
      " [ 1 -9]]\n"
     ]
    }
   ],
   "source": [
    "a = np.array([[3, 8], [4, 6]])\n",
    "b = np.array([[4, 0], [1, -9]])\n",
    "\n",
    "print(a)\n",
    "print(b)"
   ]
  },
  {
   "cell_type": "code",
   "execution_count": 14,
   "id": "c3326789",
   "metadata": {},
   "outputs": [
    {
     "data": {
      "text/plain": [
       "array([[ 7,  8],\n",
       "       [ 5, -3]])"
      ]
     },
     "execution_count": 14,
     "metadata": {},
     "output_type": "execute_result"
    }
   ],
   "source": [
    "a + b"
   ]
  },
  {
   "cell_type": "markdown",
   "id": "43a4a871",
   "metadata": {},
   "source": [
    "## Matrix Multiplication\n",
    "\n",
    "- In matrix multiplication, the number of rows the first matrix must be equal to the number of columns of the second matrix.\n",
    "- The dot product between each row and column of the matrix and placed as an entry into the resulting matrix as shown in the formula below."
   ]
  },
  {
   "cell_type": "code",
   "execution_count": 19,
   "id": "e4884335",
   "metadata": {},
   "outputs": [
    {
     "name": "stdout",
     "output_type": "stream",
     "text": [
      "[[1 2 3]\n",
      " [4 5 6]]\n",
      "[[ 7  8]\n",
      " [ 9 10]\n",
      " [11 12]]\n"
     ]
    }
   ],
   "source": [
    "mx1 = np.array([[1, 2, 3], [4, 5, 6]])\n",
    "mx2 = np.array([[7, 8], [9, 10], [11, 12]])\n",
    "\n",
    "print(mx1)\n",
    "print(mx2)"
   ]
  },
  {
   "cell_type": "code",
   "execution_count": 29,
   "id": "45d2c2f0",
   "metadata": {},
   "outputs": [
    {
     "data": {
      "text/plain": [
       "array([[ 58,  64],\n",
       "       [139, 154]])"
      ]
     },
     "execution_count": 29,
     "metadata": {},
     "output_type": "execute_result"
    }
   ],
   "source": [
    "np.dot(mx1, mx2)"
   ]
  },
  {
   "cell_type": "markdown",
   "id": "def4a3bb",
   "metadata": {},
   "source": [
    "## Identity Matrix\n",
    "\n",
    "- The identity matrix is a square matrix of elements equal to 0 except for the elements along the diagonal that are all equal to 1."
   ]
  },
  {
   "cell_type": "code",
   "execution_count": 33,
   "id": "aa291cec",
   "metadata": {},
   "outputs": [
    {
     "name": "stdout",
     "output_type": "stream",
     "text": [
      "[[ 4  3 -2]\n",
      " [-3  0  6]\n",
      " [ 1  2  8]]\n",
      "[[1 0 0]\n",
      " [0 1 0]\n",
      " [0 0 1]]\n"
     ]
    }
   ],
   "source": [
    "ax1 = np.array([[4, 3, -2], [-3, 0, 6], [1, 2, 8]])\n",
    "ax2 = np.array([[1, 0, 0], [0, 1, 0], [0, 0, 1]])\n",
    "\n",
    "print(ax1)\n",
    "print(ax2)"
   ]
  },
  {
   "cell_type": "code",
   "execution_count": 34,
   "id": "4defbd12",
   "metadata": {},
   "outputs": [
    {
     "data": {
      "text/plain": [
       "array([[ 4,  3, -2],\n",
       "       [-3,  0,  6],\n",
       "       [ 1,  2,  8]])"
      ]
     },
     "execution_count": 34,
     "metadata": {},
     "output_type": "execute_result"
    }
   ],
   "source": [
    "np.dot(ax1, ax2)"
   ]
  },
  {
   "cell_type": "code",
   "execution_count": null,
   "id": "e0ebab55",
   "metadata": {},
   "outputs": [],
   "source": []
  }
 ],
 "metadata": {
  "kernelspec": {
   "display_name": "Python 3 (ipykernel)",
   "language": "python",
   "name": "python3"
  },
  "language_info": {
   "codemirror_mode": {
    "name": "ipython",
    "version": 3
   },
   "file_extension": ".py",
   "mimetype": "text/x-python",
   "name": "python",
   "nbconvert_exporter": "python",
   "pygments_lexer": "ipython3",
   "version": "3.10.6"
  }
 },
 "nbformat": 4,
 "nbformat_minor": 5
}
