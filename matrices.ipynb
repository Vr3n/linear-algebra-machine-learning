{
 "cells": [
  {
   "cell_type": "markdown",
   "id": "a7dcb51a-71cb-4f25-abd5-4c0f17b233c7",
   "metadata": {},
   "source": [
    "## Matrices (Rank 2 Tensors)\n",
    "\n",
    "#### $$\\begin{bmatrix}\n",
    "x_{1,1} & x_{1,2}\\\\ \n",
    "x_{2,1} & x_{2,2}\\\\\n",
    "x_{3,1} & x_{3,2}\\\\\n",
    "\\end{bmatrix}$$\n",
    "\n",
    "- Two dimensional array of number.\n",
    "- Denoted in UPPER, _italic_, __bold__, eg: ___X___\n",
    "- Height is given priority ahead of width in notation. i.e: $[X_{row}, X_{col}]$\n",
    "  - If ___X___ has three row & two columns, the shape is ___(3, 2)___\n",
    "- Colon $(:)$ represents an entire row or column.\n",
    "  - Left column of matrix ___X___ is $X_{:,1}$\n",
    "  - Middle column of matrix ___X___ is $X_{2,:}$ "
   ]
  },
  {
   "cell_type": "code",
   "execution_count": 25,
   "id": "188cf4e5-c150-4237-b6c7-776183c715d1",
   "metadata": {},
   "outputs": [
    {
     "name": "stderr",
     "output_type": "stream",
     "text": [
      "2023-06-29 11:41:23.366449: W tensorflow/compiler/tf2tensorrt/utils/py_utils.cc:38] TF-TRT Warning: Could not find TensorRT\n"
     ]
    }
   ],
   "source": [
    "import numpy as np\n",
    "import torch\n",
    "import tensorflow as tf"
   ]
  },
  {
   "cell_type": "code",
   "execution_count": 2,
   "id": "60372422-a91b-4c4c-9a17-488413c64b3f",
   "metadata": {},
   "outputs": [
    {
     "data": {
      "text/plain": [
       "array([[25,  2],\n",
       "       [ 5, 26],\n",
       "       [ 3,  7]])"
      ]
     },
     "execution_count": 2,
     "metadata": {},
     "output_type": "execute_result"
    }
   ],
   "source": [
    "# Use array() with nested brackets.\n",
    "X = np.array([ [25, 2], [5, 26], [3, 7] ])\n",
    "X"
   ]
  },
  {
   "cell_type": "code",
   "execution_count": 3,
   "id": "5661d340-8286-4420-a39c-9da5298f9b16",
   "metadata": {},
   "outputs": [
    {
     "data": {
      "text/plain": [
       "(3, 2)"
      ]
     },
     "execution_count": 3,
     "metadata": {},
     "output_type": "execute_result"
    }
   ],
   "source": [
    "X.shape"
   ]
  },
  {
   "cell_type": "code",
   "execution_count": 4,
   "id": "e2df3675-e42e-4cfa-8b9d-aeae1a5d417b",
   "metadata": {},
   "outputs": [
    {
     "data": {
      "text/plain": [
       "6"
      ]
     },
     "execution_count": 4,
     "metadata": {},
     "output_type": "execute_result"
    }
   ],
   "source": [
    "X.size"
   ]
  },
  {
   "cell_type": "markdown",
   "id": "a8de429e-e77b-4fd9-85e8-d30c7ef2c3b6",
   "metadata": {},
   "source": [
    "#### Select Left column of matrix X (zero-indexed)"
   ]
  },
  {
   "cell_type": "code",
   "execution_count": 24,
   "id": "dc089bb9-a06f-49c4-9b74-502ba416f4d1",
   "metadata": {},
   "outputs": [
    {
     "data": {
      "text/plain": [
       "array([[ 5, 26]])"
      ]
     },
     "execution_count": 24,
     "metadata": {},
     "output_type": "execute_result"
    }
   ],
   "source": [
    "X[1:2]"
   ]
  },
  {
   "cell_type": "markdown",
   "id": "7f8df552-d938-408d-badd-6c0879f85c4b",
   "metadata": {},
   "source": [
    "### Matriced in PyTorch"
   ]
  },
  {
   "cell_type": "code",
   "execution_count": 26,
   "id": "62be0b3c-4f12-4edd-ac65-5bc3e2f5bd46",
   "metadata": {},
   "outputs": [
    {
     "data": {
      "text/plain": [
       "tensor([[25,  2],\n",
       "        [ 5, 26],\n",
       "        [ 3,  7]])"
      ]
     },
     "execution_count": 26,
     "metadata": {},
     "output_type": "execute_result"
    }
   ],
   "source": [
    "X_pt = torch.tensor([ [25, 2], [5, 26], [3, 7] ])\n",
    "X_pt"
   ]
  },
  {
   "cell_type": "code",
   "execution_count": 27,
   "id": "d0371045-54fd-4293-8408-f305860a9717",
   "metadata": {},
   "outputs": [
    {
     "data": {
      "text/plain": [
       "torch.Size([3, 2])"
      ]
     },
     "execution_count": 27,
     "metadata": {},
     "output_type": "execute_result"
    }
   ],
   "source": [
    "X_pt.shape"
   ]
  },
  {
   "cell_type": "code",
   "execution_count": 43,
   "id": "b4db2912-8d65-4c27-8a6a-4ab7f63038b1",
   "metadata": {},
   "outputs": [
    {
     "data": {
      "text/plain": [
       "tensor(25)"
      ]
     },
     "execution_count": 43,
     "metadata": {},
     "output_type": "execute_result"
    }
   ],
   "source": [
    "X_pt[0, 0]"
   ]
  },
  {
   "cell_type": "markdown",
   "id": "a319b2a6-e24d-4939-9266-40066ca464e4",
   "metadata": {},
   "source": [
    "### Matrices in TensorFlow"
   ]
  },
  {
   "cell_type": "code",
   "execution_count": 44,
   "id": "655846ed-6d9b-4b11-93f3-cb438ea9bea8",
   "metadata": {},
   "outputs": [],
   "source": [
    "X_tf = tf.Variable([[ 25, 2 ], [5, 26], [3, 7]])"
   ]
  },
  {
   "cell_type": "code",
   "execution_count": 45,
   "id": "300a0ce4-aea6-453c-aeab-54ee5dcf9c41",
   "metadata": {},
   "outputs": [
    {
     "data": {
      "text/plain": [
       "<tf.Variable 'Variable:0' shape=(3, 2) dtype=int32, numpy=\n",
       "array([[25,  2],\n",
       "       [ 5, 26],\n",
       "       [ 3,  7]], dtype=int32)>"
      ]
     },
     "execution_count": 45,
     "metadata": {},
     "output_type": "execute_result"
    }
   ],
   "source": [
    "X_tf"
   ]
  },
  {
   "cell_type": "code",
   "execution_count": 46,
   "id": "1485473a-92fe-47bb-8ed7-6b2551bb1afc",
   "metadata": {},
   "outputs": [
    {
     "data": {
      "text/plain": [
       "<tf.Tensor: shape=(), dtype=int32, numpy=2>"
      ]
     },
     "execution_count": 46,
     "metadata": {},
     "output_type": "execute_result"
    }
   ],
   "source": [
    "tf.rank(X_tf)"
   ]
  },
  {
   "cell_type": "code",
   "execution_count": 47,
   "id": "e504d489-9576-49bc-a924-674252b16402",
   "metadata": {},
   "outputs": [
    {
     "data": {
      "text/plain": [
       "<tf.Tensor: shape=(2,), dtype=int32, numpy=array([3, 2], dtype=int32)>"
      ]
     },
     "execution_count": 47,
     "metadata": {},
     "output_type": "execute_result"
    }
   ],
   "source": [
    "tf.shape(X_tf)"
   ]
  },
  {
   "cell_type": "code",
   "execution_count": 52,
   "id": "c1fb4767-7cd9-4462-b10b-a41e4aad58b8",
   "metadata": {},
   "outputs": [
    {
     "data": {
      "text/plain": [
       "<tf.Tensor: shape=(), dtype=int32, numpy=5>"
      ]
     },
     "execution_count": 52,
     "metadata": {},
     "output_type": "execute_result"
    }
   ],
   "source": [
    "X_tf[1, 0]"
   ]
  },
  {
   "cell_type": "code",
   "execution_count": null,
   "id": "793a02d7-6b0e-4b57-9843-44fcd3ec4d6e",
   "metadata": {},
   "outputs": [],
   "source": []
  }
 ],
 "metadata": {
  "kernelspec": {
   "display_name": "Python 3 (ipykernel)",
   "language": "python",
   "name": "python3"
  },
  "language_info": {
   "codemirror_mode": {
    "name": "ipython",
    "version": 3
   },
   "file_extension": ".py",
   "mimetype": "text/x-python",
   "name": "python",
   "nbconvert_exporter": "python",
   "pygments_lexer": "ipython3",
   "version": "3.10.6"
  }
 },
 "nbformat": 4,
 "nbformat_minor": 5
}
