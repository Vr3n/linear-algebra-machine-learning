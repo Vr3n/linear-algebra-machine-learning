{
 "cells": [
  {
   "cell_type": "markdown",
   "id": "7b7443e5-885f-4cbf-a5f4-8a98b6e9c6b9",
   "metadata": {},
   "source": [
    "## The Frobenius Norm\n",
    "## $$ ||X||_{f} = \\sqrt{\\Sigma_{i,j}x^2_{i,j}}$$\n",
    "- Analogous to $L^2$ norm of vector.\n",
    "- Measures the size of the matrix in terms of Euclidean distance.\n",
    "  - It's the sum of the magnitude of all vectors in $X$."
   ]
  },
  {
   "cell_type": "code",
   "execution_count": 5,
   "id": "dca4ed2f-afae-461e-9795-201e71e6d4e4",
   "metadata": {},
   "outputs": [
    {
     "name": "stderr",
     "output_type": "stream",
     "text": [
      "2023-06-30 17:12:29.106164: I tensorflow/tsl/cuda/cudart_stub.cc:28] Could not find cuda drivers on your machine, GPU will not be used.\n",
      "2023-06-30 17:12:29.988278: I tensorflow/tsl/cuda/cudart_stub.cc:28] Could not find cuda drivers on your machine, GPU will not be used.\n",
      "2023-06-30 17:12:32.759906: W tensorflow/compiler/tf2tensorrt/utils/py_utils.cc:38] TF-TRT Warning: Could not find TensorRT\n"
     ]
    }
   ],
   "source": [
    "import numpy as np\n",
    "import tensorflow as tf\n",
    "import torch"
   ]
  },
  {
   "cell_type": "code",
   "execution_count": 6,
   "id": "accaa9d7-f55b-4708-a39a-1d460868932f",
   "metadata": {},
   "outputs": [
    {
     "data": {
      "text/plain": [
       "array([[1, 2],\n",
       "       [3, 4]])"
      ]
     },
     "execution_count": 6,
     "metadata": {},
     "output_type": "execute_result"
    }
   ],
   "source": [
    "X = np.array([[1, 2], [3, 4]])\n",
    "X"
   ]
  },
  {
   "cell_type": "code",
   "execution_count": 7,
   "id": "8d9e4bc4-9abe-4fa4-abf5-fc193ffc670c",
   "metadata": {},
   "outputs": [
    {
     "data": {
      "text/plain": [
       "5.477225575051661"
      ]
     },
     "execution_count": 7,
     "metadata": {},
     "output_type": "execute_result"
    }
   ],
   "source": [
    "(1 ** 2 + 2 ** 2 + 3 ** 2 + 4 ** 2) ** (1 / 2)"
   ]
  },
  {
   "cell_type": "code",
   "execution_count": 8,
   "id": "b97b2b80-31ce-446e-83ca-0fc3c6fe5f8c",
   "metadata": {},
   "outputs": [
    {
     "data": {
      "text/plain": [
       "5.477225575051661"
      ]
     },
     "execution_count": 8,
     "metadata": {},
     "output_type": "execute_result"
    }
   ],
   "source": [
    "np.linalg.norm(X)"
   ]
  },
  {
   "cell_type": "code",
   "execution_count": 11,
   "id": "4e8d2021-2f2b-4d8f-be23-2b0b84e58f77",
   "metadata": {},
   "outputs": [],
   "source": [
    "X_pt = torch.tensor([[1, 2.], [3, 4.]])"
   ]
  },
  {
   "cell_type": "code",
   "execution_count": 12,
   "id": "dd90ea24-4be3-484d-9d03-c2ee813436e2",
   "metadata": {},
   "outputs": [
    {
     "data": {
      "text/plain": [
       "tensor(5.4772)"
      ]
     },
     "execution_count": 12,
     "metadata": {},
     "output_type": "execute_result"
    }
   ],
   "source": [
    "torch.norm(X_pt)"
   ]
  },
  {
   "cell_type": "code",
   "execution_count": 13,
   "id": "f1c67278-847b-43b5-b4cd-acdd201715f3",
   "metadata": {},
   "outputs": [],
   "source": [
    "X_tf = tf.Variable([[1, 2.], [3, 4.]])"
   ]
  },
  {
   "cell_type": "code",
   "execution_count": 14,
   "id": "c74a36bf-e4da-49b8-b9cc-98f223f57f64",
   "metadata": {},
   "outputs": [
    {
     "data": {
      "text/plain": [
       "<tf.Tensor: shape=(), dtype=float32, numpy=5.477226>"
      ]
     },
     "execution_count": 14,
     "metadata": {},
     "output_type": "execute_result"
    }
   ],
   "source": [
    "tf.norm(X_tf)"
   ]
  },
  {
   "cell_type": "code",
   "execution_count": null,
   "id": "b1d34385-3bbb-4cd7-9dc8-8526fbc8f4c6",
   "metadata": {},
   "outputs": [],
   "source": []
  }
 ],
 "metadata": {
  "kernelspec": {
   "display_name": "Python 3 (ipykernel)",
   "language": "python",
   "name": "python3"
  },
  "language_info": {
   "codemirror_mode": {
    "name": "ipython",
    "version": 3
   },
   "file_extension": ".py",
   "mimetype": "text/x-python",
   "name": "python",
   "nbconvert_exporter": "python",
   "pygments_lexer": "ipython3",
   "version": "3.10.6"
  }
 },
 "nbformat": 4,
 "nbformat_minor": 5
}
