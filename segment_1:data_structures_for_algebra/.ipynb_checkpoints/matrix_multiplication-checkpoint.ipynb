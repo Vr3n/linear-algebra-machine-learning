{
 "cells": [
  {
   "cell_type": "markdown",
   "id": "4e6210af-fb1b-4ce1-a07a-a37c3f590ce5",
   "metadata": {},
   "source": [
    "## Matrix Multiplication (The most important concept)\n",
    "\n",
    "The columns of the matrix should be equal to the rows of second matrix.\n",
    "\n",
    "##### $$ \\begin{bmatrix} c \\end{bmatrix} = \\begin{bmatrix} a \\end{bmatrix} * \\begin{bmatrix}  b \\end{bmatrix} $$\n",
    "\n",
    "The formula can be described as:\n",
    "##### $$ C_{i,j} = \\Sigma_{j}A_{i,j}*B_{i,j} $$"
   ]
  },
  {
   "cell_type": "code",
   "execution_count": 6,
   "id": "d3385c87-cbe6-4433-b275-33440395199b",
   "metadata": {},
   "outputs": [
    {
     "name": "stderr",
     "output_type": "stream",
     "text": [
      "2023-06-30 17:34:58.934727: I tensorflow/tsl/cuda/cudart_stub.cc:28] Could not find cuda drivers on your machine, GPU will not be used.\n",
      "2023-06-30 17:34:59.071163: I tensorflow/tsl/cuda/cudart_stub.cc:28] Could not find cuda drivers on your machine, GPU will not be used.\n",
      "2023-06-30 17:35:00.630619: W tensorflow/compiler/tf2tensorrt/utils/py_utils.cc:38] TF-TRT Warning: Could not find TensorRT\n"
     ]
    }
   ],
   "source": [
    "import numpy as np\n",
    "import tensorflow as tf\n",
    "import torch"
   ]
  },
  {
   "cell_type": "markdown",
   "id": "458941e6-2d5b-49a3-9f7f-8fb475eb1862",
   "metadata": {},
   "source": [
    "## MatVec Multiplication\n",
    "\n",
    "- Multiplying the rows of matrix by the element of the vector."
   ]
  },
  {
   "cell_type": "code",
   "execution_count": 7,
   "id": "56019163-2f8b-47a8-aed7-9295f8295629",
   "metadata": {},
   "outputs": [
    {
     "data": {
      "text/plain": [
       "array([[3, 4],\n",
       "       [5, 6],\n",
       "       [7, 8]])"
      ]
     },
     "execution_count": 7,
     "metadata": {},
     "output_type": "execute_result"
    }
   ],
   "source": [
    "A = np.array([[3, 4], [5, 6], [7, 8]])\n",
    "A"
   ]
  },
  {
   "cell_type": "code",
   "execution_count": 8,
   "id": "310db957-2b66-49c2-b36f-3281c0323596",
   "metadata": {},
   "outputs": [
    {
     "data": {
      "text/plain": [
       "array([1, 2])"
      ]
     },
     "execution_count": 8,
     "metadata": {},
     "output_type": "execute_result"
    }
   ],
   "source": [
    "b = np.array([1,2])\n",
    "b"
   ]
  },
  {
   "cell_type": "code",
   "execution_count": 9,
   "id": "f64579e2-6a29-49ca-a422-66d2697d5b61",
   "metadata": {},
   "outputs": [
    {
     "data": {
      "text/plain": [
       "array([11, 17, 23])"
      ]
     },
     "execution_count": 9,
     "metadata": {},
     "output_type": "execute_result"
    }
   ],
   "source": [
    "np.dot(A, b)"
   ]
  },
  {
   "cell_type": "code",
   "execution_count": 10,
   "id": "80e877fe-1e41-4bcd-92f4-34a0acc5acec",
   "metadata": {},
   "outputs": [
    {
     "data": {
      "text/plain": [
       "tensor([[3, 4],\n",
       "        [5, 6],\n",
       "        [7, 8]])"
      ]
     },
     "execution_count": 10,
     "metadata": {},
     "output_type": "execute_result"
    }
   ],
   "source": [
    "A_pt = torch.tensor([[3, 4], [5, 6], [7, 8]])\n",
    "A_pt"
   ]
  },
  {
   "cell_type": "code",
   "execution_count": 11,
   "id": "324dff89-c692-4ab2-9f49-3498b7172864",
   "metadata": {},
   "outputs": [
    {
     "data": {
      "text/plain": [
       "tensor([1, 2])"
      ]
     },
     "execution_count": 11,
     "metadata": {},
     "output_type": "execute_result"
    }
   ],
   "source": [
    "b_pt = torch.tensor([1, 2])\n",
    "b_pt"
   ]
  },
  {
   "cell_type": "code",
   "execution_count": 12,
   "id": "58d7c4f5-0db6-44ea-a629-cd1fde7cea29",
   "metadata": {},
   "outputs": [
    {
     "data": {
      "text/plain": [
       "tensor([11, 17, 23])"
      ]
     },
     "execution_count": 12,
     "metadata": {},
     "output_type": "execute_result"
    }
   ],
   "source": [
    "torch.matmul(A_pt, b_pt) # like np.dot(), automatically infers dims in order to perform dot product, matvec, or matrix multiplication."
   ]
  },
  {
   "cell_type": "code",
   "execution_count": 13,
   "id": "6f030cec-6cd8-4006-8d40-f41c047791cd",
   "metadata": {},
   "outputs": [],
   "source": [
    "A_tf = tf.Variable([[3, 4], [5, 6], [7, 8]])\n",
    "b_tf = tf.Variable([1, 2])"
   ]
  },
  {
   "cell_type": "code",
   "execution_count": 17,
   "id": "4990ba2f-008f-48dd-b2ea-7585ad3eaeb7",
   "metadata": {},
   "outputs": [
    {
     "data": {
      "text/plain": [
       "<tf.Variable 'Variable:0' shape=(2,) dtype=int32, numpy=array([1, 2], dtype=int32)>"
      ]
     },
     "execution_count": 17,
     "metadata": {},
     "output_type": "execute_result"
    }
   ],
   "source": [
    "A_tf \n",
    "b_tf"
   ]
  },
  {
   "cell_type": "code",
   "execution_count": 22,
   "id": "64f497fa-439d-4d00-9718-0bf9667c14b1",
   "metadata": {},
   "outputs": [
    {
     "data": {
      "text/plain": [
       "<tf.Tensor: shape=(3,), dtype=int32, numpy=array([11, 17, 23], dtype=int32)>"
      ]
     },
     "execution_count": 22,
     "metadata": {},
     "output_type": "execute_result"
    }
   ],
   "source": [
    "tf.linalg.matvec(A_tf, b_tf)"
   ]
  },
  {
   "cell_type": "markdown",
   "id": "ba037e43-32a5-44ac-a3c3-0786181b3fc7",
   "metadata": {},
   "source": [
    "## Matrix Multiplication (with Two Matrices)"
   ]
  },
  {
   "cell_type": "code",
   "execution_count": 23,
   "id": "d43e60c3-da9c-4107-b093-24c28ea96e03",
   "metadata": {},
   "outputs": [
    {
     "data": {
      "text/plain": [
       "array([[3, 4],\n",
       "       [5, 6],\n",
       "       [7, 8]])"
      ]
     },
     "execution_count": 23,
     "metadata": {},
     "output_type": "execute_result"
    }
   ],
   "source": [
    "A"
   ]
  },
  {
   "cell_type": "code",
   "execution_count": 24,
   "id": "af745509-05f3-442d-977c-744abcf0d9ea",
   "metadata": {},
   "outputs": [
    {
     "data": {
      "text/plain": [
       "array([[1, 9],\n",
       "       [2, 0]])"
      ]
     },
     "execution_count": 24,
     "metadata": {},
     "output_type": "execute_result"
    }
   ],
   "source": [
    "B = np.array([[1, 9], [2, 0]])\n",
    "B"
   ]
  },
  {
   "cell_type": "code",
   "execution_count": 25,
   "id": "6b7ddb3d-0bfd-41a4-abf8-a8e03203c2b8",
   "metadata": {},
   "outputs": [
    {
     "data": {
      "text/plain": [
       "array([[11, 27],\n",
       "       [17, 45],\n",
       "       [23, 63]])"
      ]
     },
     "execution_count": 25,
     "metadata": {},
     "output_type": "execute_result"
    }
   ],
   "source": [
    "np.dot(A, B)"
   ]
  },
  {
   "cell_type": "markdown",
   "id": "62668c2c-6e38-49c2-9a05-b718550b7b67",
   "metadata": {},
   "source": [
    "Note that matrix multiplication is not _\"commutative\"_ (i.e, $AB \\neq BA$) so uncommenting the following line will throw size mismatch error."
   ]
  },
  {
   "cell_type": "code",
   "execution_count": 26,
   "id": "f9b0e9fe-b1dd-4c92-9906-f807f79b57b7",
   "metadata": {},
   "outputs": [],
   "source": [
    "# np.dot(B, A)"
   ]
  },
  {
   "cell_type": "code",
   "execution_count": 28,
   "id": "dfb7453f-c5e3-4561-96e0-348ec5c6db7c",
   "metadata": {},
   "outputs": [
    {
     "data": {
      "text/plain": [
       "tensor([[1, 9],\n",
       "        [2, 0]])"
      ]
     },
     "execution_count": 28,
     "metadata": {},
     "output_type": "execute_result"
    }
   ],
   "source": [
    "B_pt = torch.from_numpy(B) # much cleaner than TF Conversion.\n",
    "B_pt"
   ]
  },
  {
   "cell_type": "code",
   "execution_count": 30,
   "id": "4d01ba68-6482-46b6-aceb-737ae3c67bff",
   "metadata": {},
   "outputs": [
    {
     "data": {
      "text/plain": [
       "tensor([[3, 4],\n",
       "        [5, 6],\n",
       "        [7, 8]])"
      ]
     },
     "execution_count": 30,
     "metadata": {},
     "output_type": "execute_result"
    }
   ],
   "source": [
    "A_pt"
   ]
  },
  {
   "cell_type": "code",
   "execution_count": 31,
   "id": "a0f84757-508d-4dae-a062-80a258f2a59f",
   "metadata": {},
   "outputs": [
    {
     "data": {
      "text/plain": [
       "tensor([[11, 27],\n",
       "        [17, 45],\n",
       "        [23, 63]])"
      ]
     },
     "execution_count": 31,
     "metadata": {},
     "output_type": "execute_result"
    }
   ],
   "source": [
    "torch.matmul(A_pt, B_pt)"
   ]
  },
  {
   "cell_type": "code",
   "execution_count": 35,
   "id": "404e9e2c-d9ab-4e6d-9b60-8c290d777b6a",
   "metadata": {},
   "outputs": [],
   "source": [
    "B_tf = tf.Variable([[1,9], [2, 0]])"
   ]
  },
  {
   "cell_type": "code",
   "execution_count": 36,
   "id": "d66f4a67-c112-4b5a-8569-72fccc21b3c9",
   "metadata": {
    "scrolled": true
   },
   "outputs": [
    {
     "data": {
      "text/plain": [
       "<tf.Tensor: shape=(3, 2), dtype=int32, numpy=\n",
       "array([[11, 27],\n",
       "       [17, 45],\n",
       "       [23, 63]], dtype=int32)>"
      ]
     },
     "execution_count": 36,
     "metadata": {},
     "output_type": "execute_result"
    }
   ],
   "source": [
    "tf.matmul(A_tf, B_tf)"
   ]
  },
  {
   "cell_type": "code",
   "execution_count": 37,
   "id": "73f704c7-2968-4bdc-90d7-dd1c6fcdc9ca",
   "metadata": {},
   "outputs": [
    {
     "data": {
      "text/plain": [
       "<tf.Tensor: shape=(2, 2), dtype=int32, numpy=\n",
       "array([[1, 9],\n",
       "       [2, 0]], dtype=int32)>"
      ]
     },
     "execution_count": 37,
     "metadata": {},
     "output_type": "execute_result"
    }
   ],
   "source": [
    "tf.convert_to_tensor(B_pt, dtype=tf.int32)"
   ]
  }
 ],
 "metadata": {
  "kernelspec": {
   "display_name": "Python 3 (ipykernel)",
   "language": "python",
   "name": "python3"
  },
  "language_info": {
   "codemirror_mode": {
    "name": "ipython",
    "version": 3
   },
   "file_extension": ".py",
   "mimetype": "text/x-python",
   "name": "python",
   "nbconvert_exporter": "python",
   "pygments_lexer": "ipython3",
   "version": "3.10.6"
  }
 },
 "nbformat": 4,
 "nbformat_minor": 5
}
