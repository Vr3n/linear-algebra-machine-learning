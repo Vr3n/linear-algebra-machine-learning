{
 "cells": [
  {
   "cell_type": "markdown",
   "id": "b933da1a-8ec3-4257-b568-0a901901a6a4",
   "metadata": {},
   "source": [
    "## Tensor Transposition\n",
    "\n",
    "- Transpose of scalar is itself, e.g.: $x^T=x$\n",
    "- Transpose of vector, seen earlier, converts column to row (and vice versa)\n",
    "- Scalar and vector transposition are special cases of ___matrix transposition___:\n",
    "  - Flip of axes over ___main dialognal such that:\n",
    "  $$(X^T)_{i,j} = X_{j,i}$$\n",
    "\n",
    "$\n",
    "\\begin{bmatrix}\n",
    "x_{1,1} & x_{1,2} \\\\\n",
    "x_{2,1} & x_{2,2} \\\\\n",
    "x_{3,1} & x_{3,2} \\\\\n",
    "\\end{bmatrix}$    = $\\begin{bmatrix}\n",
    "x_{1,1} & x_{2,1} & x_{3,1} \\\\\n",
    "x_{2,1} & x_{2,2} & x_{3,2} \\\\\n",
    "\\end{bmatrix}\n",
    "$"
   ]
  },
  {
   "cell_type": "code",
   "execution_count": 1,
   "id": "08e5e68c-21d1-4198-a80f-112546592f25",
   "metadata": {},
   "outputs": [
    {
     "name": "stderr",
     "output_type": "stream",
     "text": [
      "2023-06-29 21:49:02.794026: W tensorflow/compiler/tf2tensorrt/utils/py_utils.cc:38] TF-TRT Warning: Could not find TensorRT\n"
     ]
    }
   ],
   "source": [
    "import numpy as np\n",
    "import torch\n",
    "import tensorflow as tf"
   ]
  },
  {
   "cell_type": "code",
   "execution_count": 2,
   "id": "73164fee-abd8-4834-b7cf-adc0c2554cb0",
   "metadata": {},
   "outputs": [],
   "source": [
    "x = np.array([[1, 2], [3, 4], [5, 6]])"
   ]
  },
  {
   "cell_type": "code",
   "execution_count": 3,
   "id": "bab9ace1-072f-4edf-aeef-f9a1b58c7934",
   "metadata": {},
   "outputs": [
    {
     "data": {
      "text/plain": [
       "array([[1, 2],\n",
       "       [3, 4],\n",
       "       [5, 6]])"
      ]
     },
     "execution_count": 3,
     "metadata": {},
     "output_type": "execute_result"
    }
   ],
   "source": [
    "x"
   ]
  },
  {
   "cell_type": "code",
   "execution_count": 4,
   "id": "5fd395fd-aa10-472a-80f8-5d6b1082b696",
   "metadata": {},
   "outputs": [
    {
     "data": {
      "text/plain": [
       "array([[1, 3, 5],\n",
       "       [2, 4, 6]])"
      ]
     },
     "execution_count": 4,
     "metadata": {},
     "output_type": "execute_result"
    }
   ],
   "source": [
    "x.T"
   ]
  },
  {
   "cell_type": "code",
   "execution_count": 5,
   "id": "13ab4198-e9f3-4b09-9cea-9951c055bf58",
   "metadata": {},
   "outputs": [
    {
     "data": {
      "text/plain": [
       "<tf.Tensor: shape=(2, 3), dtype=int64, numpy=\n",
       "array([[1, 3, 5],\n",
       "       [2, 4, 6]])>"
      ]
     },
     "execution_count": 5,
     "metadata": {},
     "output_type": "execute_result"
    }
   ],
   "source": [
    "tf.transpose(x)"
   ]
  },
  {
   "cell_type": "code",
   "execution_count": 9,
   "id": "2801b097-ee0d-43af-bd8b-aeaeea4faa02",
   "metadata": {},
   "outputs": [
    {
     "data": {
      "text/plain": [
       "<function Tensor.transpose>"
      ]
     },
     "execution_count": 9,
     "metadata": {},
     "output_type": "execute_result"
    }
   ],
   "source": [
    "x_pt = torch.tensor([[1, 2], [3, 4], [5, 6]])\n",
    "    "
   ]
  },
  {
   "cell_type": "markdown",
   "id": "c0529f78-e72b-47af-9c7f-502e53f4c83a",
   "metadata": {},
   "source": [
    "## Basic Tensor Arithmetic\n",
    "Adding or multiplying with scalar applies operation to all elements and tensor shape is retained."
   ]
  },
  {
   "cell_type": "code",
   "execution_count": 10,
   "id": "c13ea795-8272-4764-99c2-1f8b50be5400",
   "metadata": {},
   "outputs": [
    {
     "data": {
      "text/plain": [
       "array([[1, 2],\n",
       "       [3, 4],\n",
       "       [5, 6]])"
      ]
     },
     "execution_count": 10,
     "metadata": {},
     "output_type": "execute_result"
    }
   ],
   "source": [
    "x"
   ]
  },
  {
   "cell_type": "code",
   "execution_count": 11,
   "id": "94b6b3b4-d6bd-4a46-b29d-9438a3a7b643",
   "metadata": {},
   "outputs": [
    {
     "data": {
      "text/plain": [
       "array([[ 2,  4],\n",
       "       [ 6,  8],\n",
       "       [10, 12]])"
      ]
     },
     "execution_count": 11,
     "metadata": {},
     "output_type": "execute_result"
    }
   ],
   "source": [
    "x*2"
   ]
  },
  {
   "cell_type": "code",
   "execution_count": 12,
   "id": "76f18890-100a-41df-8a28-6a6370ec6afb",
   "metadata": {},
   "outputs": [
    {
     "data": {
      "text/plain": [
       "array([[3, 4],\n",
       "       [5, 6],\n",
       "       [7, 8]])"
      ]
     },
     "execution_count": 12,
     "metadata": {},
     "output_type": "execute_result"
    }
   ],
   "source": [
    "x+2"
   ]
  },
  {
   "cell_type": "code",
   "execution_count": 13,
   "id": "6e35a5f7-7b7c-4436-8262-e59665c3b8d3",
   "metadata": {},
   "outputs": [
    {
     "data": {
      "text/plain": [
       "array([[1, 2],\n",
       "       [3, 4],\n",
       "       [5, 6]])"
      ]
     },
     "execution_count": 13,
     "metadata": {},
     "output_type": "execute_result"
    }
   ],
   "source": [
    "x"
   ]
  },
  {
   "cell_type": "code",
   "execution_count": 14,
   "id": "69d6aaee-732a-423b-9b59-c9c11ea8f3bd",
   "metadata": {},
   "outputs": [
    {
     "data": {
      "text/plain": [
       "array([[ 4,  6],\n",
       "       [ 8, 10],\n",
       "       [12, 14]])"
      ]
     },
     "execution_count": 14,
     "metadata": {},
     "output_type": "execute_result"
    }
   ],
   "source": [
    "x*2+2"
   ]
  },
  {
   "cell_type": "code",
   "execution_count": 15,
   "id": "f0b59ee7-7216-486e-9374-6f1d82416bc1",
   "metadata": {},
   "outputs": [
    {
     "data": {
      "text/plain": [
       "tensor([[ 5,  6],\n",
       "        [ 7,  8],\n",
       "        [ 9, 10]])"
      ]
     },
     "execution_count": 15,
     "metadata": {},
     "output_type": "execute_result"
    }
   ],
   "source": [
    "x_pt+2+2"
   ]
  },
  {
   "cell_type": "code",
   "execution_count": 18,
   "id": "beeb6c9f-c06b-4501-addb-658fcb6ae59a",
   "metadata": {},
   "outputs": [
    {
     "data": {
      "text/plain": [
       "tensor([[ 4,  6],\n",
       "        [ 8, 10],\n",
       "        [12, 14]])"
      ]
     },
     "execution_count": 18,
     "metadata": {},
     "output_type": "execute_result"
    }
   ],
   "source": [
    "torch.add(torch.mul(x_pt, 2), 2)"
   ]
  },
  {
   "cell_type": "code",
   "execution_count": 19,
   "id": "f2430614-62c3-4bc1-8385-62c271b7971a",
   "metadata": {},
   "outputs": [
    {
     "data": {
      "text/plain": [
       "tensor([[ 5,  6],\n",
       "        [ 7,  8],\n",
       "        [ 9, 10]])"
      ]
     },
     "execution_count": 19,
     "metadata": {},
     "output_type": "execute_result"
    }
   ],
   "source": [
    "x_pt + 2 + 2"
   ]
  },
  {
   "cell_type": "markdown",
   "id": "387e455d-b0a0-46ce-8cdf-fd78981571bb",
   "metadata": {},
   "source": [
    "If two tensors have the same size, operations are often by default applied element-wise.\n",
    "This is __not matrix multiplication__, but is rather called the ___Hadamard Product___ or simple the ___element-wise product___.\n",
    "The mathematical notation is $A * X$"
   ]
  },
  {
   "cell_type": "code",
   "execution_count": 21,
   "id": "1dd9f24c-d7ac-4958-8c74-7f1bdec0db41",
   "metadata": {},
   "outputs": [
    {
     "data": {
      "text/plain": [
       "array([[1, 2],\n",
       "       [3, 4],\n",
       "       [5, 6]])"
      ]
     },
     "execution_count": 21,
     "metadata": {},
     "output_type": "execute_result"
    }
   ],
   "source": [
    "x"
   ]
  },
  {
   "cell_type": "code",
   "execution_count": 28,
   "id": "90e244b5-d37d-4590-b2c5-e30763fdb446",
   "metadata": {},
   "outputs": [
    {
     "name": "stdout",
     "output_type": "stream",
     "text": [
      "a:  [[3 4]\n",
      " [5 6]\n",
      " [7 8]]\n"
     ]
    }
   ],
   "source": [
    "A = x + 2\n",
    "print(\"a: \", A)"
   ]
  },
  {
   "cell_type": "code",
   "execution_count": 29,
   "id": "d1a3a1e8-26cc-496b-8e7f-8ff135d1dcdc",
   "metadata": {},
   "outputs": [
    {
     "data": {
      "text/plain": [
       "array([[ 4,  6],\n",
       "       [ 8, 10],\n",
       "       [12, 14]])"
      ]
     },
     "execution_count": 29,
     "metadata": {},
     "output_type": "execute_result"
    }
   ],
   "source": [
    "A + x"
   ]
  },
  {
   "cell_type": "code",
   "execution_count": 30,
   "id": "4c6de734-3a2a-4d56-87f3-9af28e0ce7fb",
   "metadata": {},
   "outputs": [
    {
     "data": {
      "text/plain": [
       "array([[ 3,  8],\n",
       "       [15, 24],\n",
       "       [35, 48]])"
      ]
     },
     "execution_count": 30,
     "metadata": {},
     "output_type": "execute_result"
    }
   ],
   "source": [
    "A * x"
   ]
  },
  {
   "cell_type": "code",
   "execution_count": 31,
   "id": "b19f64bb-6aef-4aca-bb18-b49af737fbc5",
   "metadata": {},
   "outputs": [
    {
     "data": {
      "text/plain": [
       "array([[3.        , 2.        ],\n",
       "       [1.66666667, 1.5       ],\n",
       "       [1.4       , 1.33333333]])"
      ]
     },
     "execution_count": 31,
     "metadata": {},
     "output_type": "execute_result"
    }
   ],
   "source": [
    "A / x "
   ]
  },
  {
   "cell_type": "markdown",
   "id": "fd03798c-09f2-4955-afec-a0ca775efa93",
   "metadata": {},
   "source": [
    "## Dot Product of Tensors\n",
    "\n",
    "If we have two vectors (say $x$ and $y$) with the same length $n$, we can calculate the dot product between them. This is annotated several different ways, including the following:\n",
    "- $x * y$\n",
    "- $x^Ty$\n",
    "- $(x,y)$\n",
    "\n",
    "Regardless which notation you use (I prefer the first), the calculation is the same, we calculate products in an element-wise fashion and then sum reductively across the products to a scalar value.\n",
    "That is $x * y = \\Sigma_{i=1}^{n}x_{i}y_{i}$"
   ]
  },
  {
   "cell_type": "code",
   "execution_count": 32,
   "id": "1ed36179-131a-41d6-8c9a-c3ca82d9897e",
   "metadata": {},
   "outputs": [
    {
     "data": {
      "text/plain": [
       "array([[1, 2],\n",
       "       [3, 4],\n",
       "       [5, 6]])"
      ]
     },
     "execution_count": 32,
     "metadata": {},
     "output_type": "execute_result"
    }
   ],
   "source": [
    "x"
   ]
  },
  {
   "cell_type": "code",
   "execution_count": 43,
   "id": "8f0945f0-1ab1-42bc-9216-0ffd0a0292b2",
   "metadata": {},
   "outputs": [
    {
     "data": {
      "text/plain": [
       "array([0, 1, 2])"
      ]
     },
     "execution_count": 43,
     "metadata": {},
     "output_type": "execute_result"
    }
   ],
   "source": [
    "y = np.array([0, 1, 2])\n",
    "x = np.array([4, 5, 6])\n",
    "y"
   ]
  },
  {
   "cell_type": "code",
   "execution_count": 44,
   "id": "1c8872fd-6ccd-44e7-ad14-4f22b1f81138",
   "metadata": {},
   "outputs": [
    {
     "data": {
      "text/plain": [
       "12"
      ]
     },
     "execution_count": 44,
     "metadata": {},
     "output_type": "execute_result"
    }
   ],
   "source": [
    "25*0 + 2*1+ 5*2"
   ]
  },
  {
   "cell_type": "code",
   "execution_count": 45,
   "id": "26050984-a4d6-4a5c-af91-a8e3fb7479ef",
   "metadata": {},
   "outputs": [
    {
     "data": {
      "text/plain": [
       "17"
      ]
     },
     "execution_count": 45,
     "metadata": {},
     "output_type": "execute_result"
    }
   ],
   "source": [
    "np.dot(x, y)"
   ]
  },
  {
   "cell_type": "code",
   "execution_count": 48,
   "id": "d155edec-f5ce-49c4-ab29-103c57396add",
   "metadata": {},
   "outputs": [
    {
     "data": {
      "text/plain": [
       "tensor(12.)"
      ]
     },
     "execution_count": 48,
     "metadata": {},
     "output_type": "execute_result"
    }
   ],
   "source": [
    "torch.dot(torch.tensor([25, 2, 5.]), torch.tensor([0, 1, 2.]))"
   ]
  },
  {
   "cell_type": "code",
   "execution_count": null,
   "id": "dff8f716-195d-4bdc-b61c-e4ad349569f1",
   "metadata": {},
   "outputs": [],
   "source": []
  }
 ],
 "metadata": {
  "kernelspec": {
   "display_name": "Python 3 (ipykernel)",
   "language": "python",
   "name": "python3"
  },
  "language_info": {
   "codemirror_mode": {
    "name": "ipython",
    "version": 3
   },
   "file_extension": ".py",
   "mimetype": "text/x-python",
   "name": "python",
   "nbconvert_exporter": "python",
   "pygments_lexer": "ipython3",
   "version": "3.10.6"
  }
 },
 "nbformat": 4,
 "nbformat_minor": 5
}
