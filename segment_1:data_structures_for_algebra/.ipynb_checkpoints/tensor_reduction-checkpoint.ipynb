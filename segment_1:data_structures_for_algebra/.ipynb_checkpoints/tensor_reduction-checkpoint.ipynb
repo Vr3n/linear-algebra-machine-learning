{
 "cells": [
  {
   "cell_type": "markdown",
   "id": "945579f9-3174-4a4e-aedf-b85a6fcb56f8",
   "metadata": {},
   "source": [
    "## Reduction\n",
    "Calculating the sum across all elements of a tensor is a common operation, For example:\n",
    "- For vector $x$ of length $n$, we calculate $\\Sigma_{i=1}^{n}x_{i}$\n",
    "- For matrix $X$ with $m$ by $n$ dimensions, we calculate $\\Sigma_{i=1}^{m}\\Sigma_{j=1}^{n}X_{i,j}$"
   ]
  },
  {
   "cell_type": "code",
   "execution_count": 17,
   "id": "8c9c45fb-44db-444c-b98b-f866dbb169bd",
   "metadata": {},
   "outputs": [],
   "source": [
    "import numpy as np\n",
    "import torch\n",
    "import tensorflow as tf"
   ]
  },
  {
   "cell_type": "code",
   "execution_count": 21,
   "id": "65811d5a-bafa-4142-8689-16aad0432965",
   "metadata": {},
   "outputs": [],
   "source": [
    "x = np.array([[1,2],[3, 4]])\n",
    "x_pt = torch.tensor([[5,6],[7, 8]])\n",
    "x_tf = tf.Variable([[9,10],[11, 12]])"
   ]
  },
  {
   "cell_type": "code",
   "execution_count": 11,
   "id": "b1a26673-d36b-45be-9aed-83fd3696d11b",
   "metadata": {},
   "outputs": [
    {
     "data": {
      "text/plain": [
       "array([[1, 2],\n",
       "       [3, 4]])"
      ]
     },
     "execution_count": 11,
     "metadata": {},
     "output_type": "execute_result"
    }
   ],
   "source": [
    "x"
   ]
  },
  {
   "cell_type": "code",
   "execution_count": 12,
   "id": "29ca5e6b-b014-47bb-a87d-32b6f62d93d5",
   "metadata": {},
   "outputs": [
    {
     "data": {
      "text/plain": [
       "10"
      ]
     },
     "execution_count": 12,
     "metadata": {},
     "output_type": "execute_result"
    }
   ],
   "source": [
    "x.sum()"
   ]
  },
  {
   "cell_type": "code",
   "execution_count": 13,
   "id": "c85c8d38-78d0-4f31-b98c-e7ce1ecab351",
   "metadata": {},
   "outputs": [
    {
     "data": {
      "text/plain": [
       "tensor(26)"
      ]
     },
     "execution_count": 13,
     "metadata": {},
     "output_type": "execute_result"
    }
   ],
   "source": [
    "torch.sum(x_pt)"
   ]
  },
  {
   "cell_type": "code",
   "execution_count": 14,
   "id": "cf757b93-f784-4c7e-804d-eaedd45cd5db",
   "metadata": {},
   "outputs": [
    {
     "data": {
      "text/plain": [
       "array([4, 6])"
      ]
     },
     "execution_count": 14,
     "metadata": {},
     "output_type": "execute_result"
    }
   ],
   "source": [
    "# can also be done on one specific axis alone, e.g: 1\n",
    "x.sum(axis=0) # summing all rows"
   ]
  },
  {
   "cell_type": "code",
   "execution_count": 15,
   "id": "d48a9c66-4f68-4173-a05f-892fde88a352",
   "metadata": {},
   "outputs": [
    {
     "data": {
      "text/plain": [
       "array([3, 7])"
      ]
     },
     "execution_count": 15,
     "metadata": {},
     "output_type": "execute_result"
    }
   ],
   "source": [
    "x.sum(axis=1)"
   ]
  },
  {
   "cell_type": "code",
   "execution_count": 22,
   "id": "92803eb2-77a0-42cf-ac0e-e5d3ca5165b2",
   "metadata": {},
   "outputs": [
    {
     "data": {
      "text/plain": [
       "<tf.Tensor: shape=(), dtype=int32, numpy=42>"
      ]
     },
     "execution_count": 22,
     "metadata": {},
     "output_type": "execute_result"
    }
   ],
   "source": [
    "tf.reduce_sum(x_tf)"
   ]
  },
  {
   "cell_type": "code",
   "execution_count": 23,
   "id": "b602d33f-9fd8-49d4-ac96-6081790eab64",
   "metadata": {},
   "outputs": [
    {
     "data": {
      "text/plain": [
       "tensor([12, 14])"
      ]
     },
     "execution_count": 23,
     "metadata": {},
     "output_type": "execute_result"
    }
   ],
   "source": [
    "torch.sum(x_pt, 0)"
   ]
  },
  {
   "cell_type": "markdown",
   "id": "025ffb3a-b58e-42d3-aa67-a0b613282e5c",
   "metadata": {},
   "source": [
    "Many other operations can be applied with reduction along all or a selection of axes e.g.:\n",
    "- maximum\n",
    "- minimum\n",
    "- mean\n",
    "- product\n",
    "\n",
    "They're faily straightforward and used less often than summation, so you're welcome to look them up in library docs if you ever need them."
   ]
  },
  {
   "cell_type": "code",
   "execution_count": null,
   "id": "db09c4cf-d17b-4342-99ee-fdf3445965b0",
   "metadata": {},
   "outputs": [],
   "source": []
  }
 ],
 "metadata": {
  "kernelspec": {
   "display_name": "Python 3 (ipykernel)",
   "language": "python",
   "name": "python3"
  },
  "language_info": {
   "codemirror_mode": {
    "name": "ipython",
    "version": 3
   },
   "file_extension": ".py",
   "mimetype": "text/x-python",
   "name": "python",
   "nbconvert_exporter": "python",
   "pygments_lexer": "ipython3",
   "version": "3.10.6"
  }
 },
 "nbformat": 4,
 "nbformat_minor": 5
}
