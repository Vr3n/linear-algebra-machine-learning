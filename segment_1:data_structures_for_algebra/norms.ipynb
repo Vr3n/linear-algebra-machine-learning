{
 "cells": [
  {
   "cell_type": "markdown",
   "id": "a2c71e63-10b7-4276-afeb-9d278648ce5d",
   "metadata": {},
   "source": [
    "## $L^{2}$ Norm\n",
    "- The most common norm\n",
    "- Measures simple ___(Euclidean)___ distance from the origin.\n",
    "\n",
    "### $$||x||_{2} = \\sqrt{\\Sigma_{i} x_{i}^{2}}$$"
   ]
  },
  {
   "cell_type": "code",
   "execution_count": 2,
   "id": "24d0585a-501e-4471-b3a1-5ecff68d7ae1",
   "metadata": {},
   "outputs": [],
   "source": [
    "import numpy as np"
   ]
  },
  {
   "cell_type": "code",
   "execution_count": 3,
   "id": "6d517aa6-b622-483a-b54d-e35f89521b51",
   "metadata": {},
   "outputs": [],
   "source": [
    "x = np.array([25, 2, 5])"
   ]
  },
  {
   "cell_type": "code",
   "execution_count": 6,
   "id": "02ee98a7-3a37-4f46-92ab-2714b8e9365c",
   "metadata": {},
   "outputs": [
    {
     "data": {
      "text/plain": [
       "25.573423705088842"
      ]
     },
     "execution_count": 6,
     "metadata": {},
     "output_type": "execute_result"
    }
   ],
   "source": [
    "np.linalg.norm(x)"
   ]
  },
  {
   "cell_type": "markdown",
   "id": "aee2caf6-73bd-480e-964a-11c8919edc2f",
   "metadata": {},
   "source": [
    "## $L^{1}$ Norm\n",
    "- Another common norm in ML.\n",
    "- Varies linearly at all locations whether near or far from the origin.\n",
    "- Used when the difference between zero & non-zero is key.\n",
    " ### $$||x||_{1} = \\Sigma_{i} |x_{i}|$$"
   ]
  },
  {
   "cell_type": "code",
   "execution_count": 7,
   "id": "a54b6a21-38ff-4c7e-96e5-41d40cc46ed0",
   "metadata": {},
   "outputs": [
    {
     "data": {
      "text/plain": [
       "array([25,  2,  5])"
      ]
     },
     "execution_count": 7,
     "metadata": {},
     "output_type": "execute_result"
    }
   ],
   "source": [
    "x"
   ]
  },
  {
   "cell_type": "code",
   "execution_count": 8,
   "id": "e338075e-571e-4b24-afb9-2f3d4da3eb71",
   "metadata": {},
   "outputs": [
    {
     "data": {
      "text/plain": [
       "32"
      ]
     },
     "execution_count": 8,
     "metadata": {},
     "output_type": "execute_result"
    }
   ],
   "source": [
    "total = 0\n",
    "for i in range(len(x)):\n",
    "    total += np.abs(x[i])\n",
    "total"
   ]
  },
  {
   "cell_type": "markdown",
   "id": "3921a05f-e10a-4185-9e6e-02e23e54ba88",
   "metadata": {},
   "source": [
    "## Squared $L^{2}$ Norm\n",
    "- Computationally cheaper to use than $L^{2}$ norm because:\n",
    "  - Squared $L^{2}$ norm equals to simply $x^{T}x$\n",
    "  - Derivatives (Used to train many ML Algorithms) of element $x$ require that element (scalar) alone,\n",
    "    where as $L^{2}$ norm requires $x$ vector.\n",
    "- Downside is it grows slowly near the origin so it can be used if distinguishing between $0$ and $non-zero$ is the key.\n",
    "\n",
    "###  $$||x||_{2}^{2} = \\Sigma_{i} x_{i}^{2}$$"
   ]
  },
  {
   "cell_type": "code",
   "execution_count": 10,
   "id": "9bc4b8b1-6d2d-4269-a82f-29c2e26c95a8",
   "metadata": {},
   "outputs": [
    {
     "data": {
      "text/plain": [
       "array([25,  2,  5])"
      ]
     },
     "execution_count": 10,
     "metadata": {},
     "output_type": "execute_result"
    }
   ],
   "source": [
    "x"
   ]
  },
  {
   "cell_type": "code",
   "execution_count": 11,
   "id": "7379f05a-8fc0-4e17-9fa9-984dccc578a2",
   "metadata": {},
   "outputs": [
    {
     "data": {
      "text/plain": [
       "654"
      ]
     },
     "execution_count": 11,
     "metadata": {},
     "output_type": "execute_result"
    }
   ],
   "source": [
    "np.dot(x, x)"
   ]
  },
  {
   "cell_type": "markdown",
   "id": "2104cf0f-65f0-46b2-921a-46e8b25de940",
   "metadata": {},
   "source": [
    "## Max Norm\n",
    "\n",
    "- Occurs frequently in ML\n",
    "- Returns the absolute value of the largest-magnitude element.\n",
    "\n",
    "### $$||x||_{\\infty} = max_{i} |x_{i}|$$"
   ]
  },
  {
   "cell_type": "code",
   "execution_count": 12,
   "id": "584f0584-55b6-4eae-9370-79b7dc26ed02",
   "metadata": {},
   "outputs": [
    {
     "data": {
      "text/plain": [
       "array([25,  2,  5])"
      ]
     },
     "execution_count": 12,
     "metadata": {},
     "output_type": "execute_result"
    }
   ],
   "source": [
    "x"
   ]
  },
  {
   "cell_type": "code",
   "execution_count": 13,
   "id": "9e836133-d7ab-4285-ab16-92b196234250",
   "metadata": {},
   "outputs": [
    {
     "data": {
      "text/plain": [
       "25"
      ]
     },
     "execution_count": 13,
     "metadata": {},
     "output_type": "execute_result"
    }
   ],
   "source": [
    "np.max([np.abs(x[0]), np.abs(x[1]), np.abs(x[2])])"
   ]
  },
  {
   "cell_type": "markdown",
   "id": "c359d735-7610-432b-8f93-408a5def12b7",
   "metadata": {},
   "source": [
    "## Generalized L^{P} Norm\n",
    "\n",
    "- $p$ must be:\n",
    "  - A real number\n",
    "  - Greater than or equal to one.\n",
    "- Can derive $L_{1}$, $L_{2}$, $L_{\\infty}$ formulae by substituting for $p$.\n",
    "- Norms, particularly $L_{1}$ and $L_{2}$ used to regularize objective functions.\n",
    " \n",
    "### $$||x||_{p} = (\\Sigma_{i} |x_{i}|^{p})^{\\frac{1}{p}}$$"
   ]
  },
  {
   "cell_type": "markdown",
   "id": "687e99fa-b452-4d1f-976b-b76b6e0dd3bf",
   "metadata": {},
   "source": [
    "## Visualizing Norms"
   ]
  },
  {
   "cell_type": "code",
   "execution_count": null,
   "id": "8a68384b-bb7c-4d3b-8bae-11696f3c6e38",
   "metadata": {},
   "outputs": [],
   "source": []
  }
 ],
 "metadata": {
  "kernelspec": {
   "display_name": "Python 3 (ipykernel)",
   "language": "python",
   "name": "python3"
  },
  "language_info": {
   "codemirror_mode": {
    "name": "ipython",
    "version": 3
   },
   "file_extension": ".py",
   "mimetype": "text/x-python",
   "name": "python",
   "nbconvert_exporter": "python",
   "pygments_lexer": "ipython3",
   "version": "3.10.6"
  }
 },
 "nbformat": 4,
 "nbformat_minor": 5
}
